{
 "cells": [
  {
   "cell_type": "markdown",
   "metadata": {},
   "source": [
    "Write a program that reads this text file (randomly generated) and scans for all single words that are palindromes. Treat all punctuation (commas, brackets etc.) as blanks. The program should print all found palindromes, together with their multiplicity.\n",
    "Print the percentage of words in the text that are palindromic."
   ]
  },
  {
   "cell_type": "code",
   "execution_count": null,
   "metadata": {},
   "outputs": [],
   "source": [
    "import sys\n",
    "import re\n",
    "import os \n"
   ]
  },
  {
   "cell_type": "code",
   "execution_count": null,
   "metadata": {},
   "outputs": [],
   "source": [
    "def is_palindrome(word): \n",
    "\n",
    "    rev = ''.join(reversed(word)) \n",
    "    # Checking if both string are  \n",
    "    # equal or not \n",
    "    if (word == rev): \n",
    "        return True\n",
    "    return False"
   ]
  },
  {
   "cell_type": "code",
   "execution_count": null,
   "metadata": {},
   "outputs": [],
   "source": [
    "def count_palindromes(text):\n",
    "    \"\"\"Returns the number of palindromes in a text.\"\"\"\n",
    "    count = 0\n",
    "    for word in text:\n",
    "        if is_palindrome(word):\n",
    "            count += 1\n",
    "    return count"
   ]
  },
  {
   "cell_type": "code",
   "execution_count": null,
   "metadata": {},
   "outputs": [],
   "source": [
    "# Define function for updating dictionary\n",
    "def updateDict(word, pds):\n",
    "    # check for word in dictionary\n",
    "    if word not in pds:\n",
    "        pds[word] = 1\n",
    "        return pds\n",
    "    else:\n",
    "        pds[word] += 1\n",
    "        return pds"
   ]
  },
  {
   "cell_type": "code",
   "execution_count": null,
   "metadata": {},
   "outputs": [],
   "source": [
    "# check the defined functions with a random generated text file \n",
    "\n",
    "string = open('text.txt').read()    # my random text file name is text.txt \n",
    "\n",
    "# split the text and store words in a list\n",
    "words = string.split()\n",
    "\n",
    "# convert all letters/words to lowercase\n",
    "lower_words= [word.lower() for word in words]\n",
    "\n",
    "# remove special characters from each word in words\n",
    "new_words = [re.sub('[!#?,.:\";]', '', word) for word in lower_words]\n",
    "new_tu = tuple(new_words)\n"
   ]
  },
  {
   "cell_type": "code",
   "execution_count": null,
   "metadata": {},
   "outputs": [],
   "source": [
    "num_pali = count_palindromes(new_words)"
   ]
  },
  {
   "cell_type": "code",
   "execution_count": null,
   "metadata": {},
   "outputs": [],
   "source": [
    "# How many palindromes in the given text file (provided a random generated text file, text.txt )\n",
    "num_pali"
   ]
  },
  {
   "cell_type": "code",
   "execution_count": null,
   "metadata": {},
   "outputs": [],
   "source": [
    "pds = {}\n",
    "for word in new_words:\n",
    "    if is_palindrome(word):\n",
    "        updateDict(word,pds)\n",
    "    "
   ]
  },
  {
   "cell_type": "code",
   "execution_count": null,
   "metadata": {},
   "outputs": [],
   "source": [
    "# print all found palindromes, with its multiplcity.\n",
    "print(pds)"
   ]
  },
  {
   "cell_type": "code",
   "execution_count": null,
   "metadata": {},
   "outputs": [],
   "source": [
    "percent= percentage_pali = len(pds)/len(new_words)"
   ]
  },
  {
   "cell_type": "code",
   "execution_count": null,
   "metadata": {},
   "outputs": [],
   "source": [
    "# print the percentage of words in the text that are palindromic \n",
    "percent"
   ]
  },
  {
   "cell_type": "code",
   "execution_count": null,
   "metadata": {},
   "outputs": [],
   "source": []
  }
 ],
 "metadata": {
  "kernelspec": {
   "display_name": "Python 3",
   "language": "python",
   "name": "python3"
  },
  "language_info": {
   "codemirror_mode": {
    "name": "ipython",
    "version": 3
   },
   "file_extension": ".py",
   "mimetype": "text/x-python",
   "name": "python",
   "nbconvert_exporter": "python",
   "pygments_lexer": "ipython3",
   "version": "3.7.6"
  }
 },
 "nbformat": 4,
 "nbformat_minor": 2
}
